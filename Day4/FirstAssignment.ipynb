{
 "cells": [
  {
   "cell_type": "code",
   "execution_count": 9,
   "metadata": {},
   "outputs": [
    {
     "name": "stdout",
     "output_type": "stream",
     "text": [
      "what we think we become; we are Python programmer\n",
      "Index of occurence 0: 5\n",
      " think we become; we are Python programmer\n",
      "Index of occurence 1: 7\n",
      " become; we are Python programmer\n",
      "Index of occurence 2: 9\n"
     ]
    }
   ],
   "source": [
    "str1=\"what we think we become; we are Python programmer\"\n",
    "searchStr=\"we\"\n",
    "\n",
    "countOfSearchStr = str1.count(searchStr)\n",
    "lengthOfSearchStr = len(searchStr)\n",
    "#print(countOfSearchStr)\n",
    "counter = 0\n",
    "while (counter < countOfSearchStr):\n",
    "    print (str1)\n",
    "    index = str1.find(searchStr)\n",
    "    print (f\"Index of occurence {counter}: {index}\")\n",
    "    counter += 1\n",
    "    str1 = str1[index+lengthOfSearchStr:]"
   ]
  },
  {
   "cell_type": "code",
   "execution_count": null,
   "metadata": {},
   "outputs": [],
   "source": []
  }
 ],
 "metadata": {
  "kernelspec": {
   "display_name": "Python 3",
   "language": "python",
   "name": "python3"
  },
  "language_info": {
   "codemirror_mode": {
    "name": "ipython",
    "version": 3
   },
   "file_extension": ".py",
   "mimetype": "text/x-python",
   "name": "python",
   "nbconvert_exporter": "python",
   "pygments_lexer": "ipython3",
   "version": "3.7.6"
  }
 },
 "nbformat": 4,
 "nbformat_minor": 4
}
